{
 "cells": [
  {
   "cell_type": "markdown",
   "metadata": {},
   "source": [
    "Explain the significance of Python keywords and provide examples of five keywords."
   ]
  },
  {
   "cell_type": "code",
   "execution_count": null,
   "metadata": {},
   "outputs": [],
   "source": [
    "\"\"\"Python keywords are reserved words that have predefined meanings in the Python language.\n",
    "These words cannot be used as variable names or identifiers.\"\"\"\n",
    "\n",
    "# Example of Python keywords:\n",
    "x = 10\n",
    "if x > 5:  # 'if' is a keyword for conditional statements\n",
    "    print(\"x is greater than 5\")\n",
    "\n",
    "for i in range(3):  # 'for' is used for looping\n",
    "    print(i)\n",
    "\n",
    "def greet():  # 'def' is used to define a function\n",
    "    return \"Hello, Python!\"\n",
    "\n",
    "print(greet())\n",
    "\n",
    "import math  # 'import' is used to include modules\n",
    "print(math.sqrt(16))\n",
    "\n",
    "# 'return' is used to return a value from a function\n",
    "def add(a, b):\n",
    "    return a + b\n",
    "\n",
    "print(add(2, 3))\n"
   ]
  },
  {
   "cell_type": "markdown",
   "metadata": {},
   "source": [
    "Describe the rules for defining identifiers in Python and provide an example."
   ]
  },
  {
   "cell_type": "code",
   "execution_count": null,
   "metadata": {},
   "outputs": [],
   "source": [
    "\"\"\"Identifiers are names used for variables, functions, or other entities in Python.\n",
    "Rules:\n",
    "1. An identifier can contain letters, digits, and underscores (_), but cannot start with a digit.\n",
    "2. Identifiers are case-sensitive.\n",
    "3. Keywords cannot be used as identifiers.\"\"\"\n",
    "\n",
    "# Examples:\n",
    "my_variable = 10  # Valid identifier\n",
    "MyVariable = 20  # Different from 'my_variable' due to case sensitivity\n",
    "print(my_variable, MyVariable)\n",
    "\n",
    "# Invalid identifier (uncomment to see error)\n",
    "# 1variable = 30  # Cannot start with a digit"
   ]
  },
  {
   "cell_type": "markdown",
   "metadata": {},
   "source": [
    "What are comments in Python, and why are they useful? Provide an example."
   ]
  },
  {
   "cell_type": "code",
   "execution_count": null,
   "metadata": {},
   "outputs": [],
   "source": [
    "# Comments are non-executable lines in Python, used for documentation and improving readability.\n",
    "# Types of comments:\n",
    "# 1. Single-line comments, starting with #\n",
    "# 2. Multi-line comments, enclosed within triple quotes ''' or \"\"\"\n",
    "\n",
    "# Example:\n",
    "# This is a single-line comment explaining the code below.\n",
    "x = 5  # Variable x is assigned the value 5\n",
    "\n",
    "\"\"\"\n",
    "This is a multi-line comment.\n",
    "The following code calculates the square of x.\n",
    "\"\"\"\n",
    "square = x ** 2\n",
    "print(square)  # Output: 25"
   ]
  },
  {
   "cell_type": "markdown",
   "metadata": {},
   "source": [
    "Why is proper indentation important in Python?"
   ]
  },
  {
   "cell_type": "code",
   "execution_count": null,
   "metadata": {},
   "outputs": [],
   "source": [
    "# Indentation defines blocks of code in Python. It is mandatory and ensures code structure is clear.\n",
    "# Improper indentation leads to syntax errors.\n",
    "\n",
    "# Example of proper indentation:\n",
    "def say_hello():\n",
    "    print(\"Hello, World!\")  # Properly indented block\n",
    "\n",
    "say_hello()\n",
    "\n",
    "# Example of incorrect indentation (uncomment to see the error)\n",
    "# def say_hello():\n",
    "# print(\"This will cause an error!\")  # IndentationError"
   ]
  },
  {
   "cell_type": "markdown",
   "metadata": {},
   "source": [
    "What happens if indentation is incorrect in Python?\n"
   ]
  },
  {
   "cell_type": "code",
   "execution_count": null,
   "metadata": {},
   "outputs": [],
   "source": [
    "# Incorrect indentation causes an IndentationError, preventing the program from running.\n",
    "# Example:\n",
    "# def faulty_function():\n",
    "# print(\"This will cause an error!\")  # Uncomment to see IndentationError\n",
    "\n",
    "# Correct indentation fixes the issue:\n",
    "def corrected_function():\n",
    "    print(\"This is properly indented.\")\n",
    "\n",
    "corrected_function()"
   ]
  },
  {
   "cell_type": "markdown",
   "metadata": {},
   "source": [
    "Differentiate between expression and statement in Python with examples."
   ]
  },
  {
   "cell_type": "code",
   "execution_count": null,
   "metadata": {},
   "outputs": [],
   "source": [
    "# An expression produces a value when evaluated.\n",
    "x = 5 + 3  # '5 + 3' is an expression that evaluates to 8\n",
    "print(x)  # Output: 8\n",
    "\n",
    "# A statement performs an action but may not produce a value.\n",
    "if x > 5:  # 'if' is a statement that checks a condition\n",
    "    print(\"x is greater than 5\")  # Output: x is greater than 5\n",
    "\n",
    "# Here, '5 + 3' is an expression used within the assignment statement 'x = 5 + 3'.\n",
    "# The 'if x > 5:' block is a conditional statement."
   ]
  }
 ],
 "metadata": {
  "kernelspec": {
   "display_name": "base",
   "language": "python",
   "name": "python3"
  },
  "language_info": {
   "name": "python",
   "version": "3.11.5"
  }
 },
 "nbformat": 4,
 "nbformat_minor": 2
}
